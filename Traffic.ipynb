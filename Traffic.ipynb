{
  "nbformat": 4,
  "nbformat_minor": 0,
  "metadata": {
    "colab": {
      "provenance": [],
      "include_colab_link": true
    },
    "kernelspec": {
      "name": "python3",
      "display_name": "Python 3"
    }
  },
  "cells": [
    {
      "cell_type": "markdown",
      "metadata": {
        "id": "view-in-github",
        "colab_type": "text"
      },
      "source": [
        "<a href=\"https://colab.research.google.com/github/esha-pala/Multi-Traffic-Scene-Perception-Based-On-Supervised-Learning/blob/main/Traffic.ipynb\" target=\"_parent\"><img src=\"https://colab.research.google.com/assets/colab-badge.svg\" alt=\"Open In Colab\"/></a>"
      ]
    },
    {
      "cell_type": "code",
      "metadata": {
        "id": "BMMbU2N_bNjx"
      },
      "source": [
        "import os\n",
        "import zipfile"
      ],
      "execution_count": null,
      "outputs": []
    },
    {
      "cell_type": "code",
      "metadata": {
        "id": "WpstxUtmbY-w",
        "colab": {
          "base_uri": "https://localhost:8080/"
        },
        "outputId": "043fce17-461c-42ea-8cf1-b9143b9d361c"
      },
      "source": [
        "from google.colab import drive\n",
        "drive.mount('/content/gdrive')"
      ],
      "execution_count": null,
      "outputs": [
        {
          "output_type": "stream",
          "text": [
            "Mounted at /content/gdrive\n"
          ],
          "name": "stdout"
        }
      ]
    },
    {
      "cell_type": "code",
      "metadata": {
        "id": "DlvZP9OybdTp"
      },
      "source": [
        "local_zip='/content/input_traffic image data.zip'"
      ],
      "execution_count": null,
      "outputs": []
    },
    {
      "cell_type": "code",
      "metadata": {
        "id": "CY6x9RdKbehR"
      },
      "source": [
        "zip_ref=zipfile.ZipFile(local_zip,'r')"
      ],
      "execution_count": null,
      "outputs": []
    },
    {
      "cell_type": "code",
      "metadata": {
        "id": "VXTRqPBubeY_"
      },
      "source": [
        "zip_ref.extractall('/content/input_traffic image data')"
      ],
      "execution_count": null,
      "outputs": []
    },
    {
      "cell_type": "code",
      "metadata": {
        "id": "HXnxZoAebeQ5"
      },
      "source": [
        "local_zip='/content/input_traffic image data.zip'\n",
        "zip_ref=zipfile.ZipFile(local_zip,'r')\n",
        "zip_ref.extractall('/content/input_traffic image data')"
      ],
      "execution_count": null,
      "outputs": []
    },
    {
      "cell_type": "code",
      "metadata": {
        "colab": {
          "base_uri": "https://localhost:8080/"
        },
        "id": "7UT0OEBUdkDv",
        "outputId": "a792fe50-712a-4e4d-be1f-b1a2ee7c51ee"
      },
      "source": [
        "os.listdir('/content/input_traffic image data')"
      ],
      "execution_count": null,
      "outputs": [
        {
          "output_type": "execute_result",
          "data": {
            "text/plain": [
              "['Non acciental area', 'traffic', 'Foggy']"
            ]
          },
          "metadata": {
            "tags": []
          },
          "execution_count": 7
        }
      ]
    },
    {
      "cell_type": "code",
      "metadata": {
        "id": "6HjjM7OVbeLj"
      },
      "source": [
        "train_na_dir = os.path.join('/content/input_traffic image data/Non acciental area')"
      ],
      "execution_count": null,
      "outputs": []
    },
    {
      "cell_type": "code",
      "metadata": {
        "id": "Nq4eJS-gbeGI"
      },
      "source": [
        "train_tr_dir = os.path.join('/content/input_traffic image data/traffic')"
      ],
      "execution_count": null,
      "outputs": []
    },
    {
      "cell_type": "code",
      "metadata": {
        "id": "a5X3w3a1bd-P"
      },
      "source": [
        "train_fo_dir = os.path.join('/content/input_traffic image data/traffic')"
      ],
      "execution_count": null,
      "outputs": []
    },
    {
      "cell_type": "code",
      "metadata": {
        "id": "9t-b76I5bdsx",
        "colab": {
          "base_uri": "https://localhost:8080/"
        },
        "outputId": "4da73bb9-eae8-4ff3-8cca-baa608caaf8a"
      },
      "source": [
        "train_na_names = os.listdir(train_na_dir)\n",
        "print(train_na_names[:10])"
      ],
      "execution_count": null,
      "outputs": [
        {
          "output_type": "stream",
          "text": [
            "['images9.png', 'images13.png', 's1.jpg', 'images5.png', 'r8.jpg', 'n2.jpg', 'images6.png', 'r1.jpg', 'images4.png', 's5.jpg']\n"
          ],
          "name": "stdout"
        }
      ]
    },
    {
      "cell_type": "code",
      "metadata": {
        "id": "yk3o2huvctkT",
        "colab": {
          "base_uri": "https://localhost:8080/"
        },
        "outputId": "158e3e4e-8fbb-4b0f-b2cb-46c78e89ad97"
      },
      "source": [
        "train_tr_names = os.listdir(train_tr_dir)\n",
        "print(train_tr_names[:10])"
      ],
      "execution_count": null,
      "outputs": [
        {
          "output_type": "stream",
          "text": [
            "['images9.png', 'images13.png', 'download1.png', 'images5.png', 'images15.png', 'images6.png', 'bk1.jpg', 'images4.png', 'images17.png', 't5.png']\n"
          ],
          "name": "stdout"
        }
      ]
    },
    {
      "cell_type": "code",
      "metadata": {
        "id": "4fMA19BkcykW",
        "colab": {
          "base_uri": "https://localhost:8080/"
        },
        "outputId": "711abbec-0da7-4de6-ce79-d82b6035e664"
      },
      "source": [
        "train_fo_names = os.listdir(train_fo_dir)\n",
        "print(train_fo_names[:10])"
      ],
      "execution_count": null,
      "outputs": [
        {
          "output_type": "stream",
          "text": [
            "['images9.png', 'images13.png', 'download1.png', 'images5.png', 'images15.png', 'images6.png', 'bk1.jpg', 'images4.png', 'images17.png', 't5.png']\n"
          ],
          "name": "stdout"
        }
      ]
    },
    {
      "cell_type": "code",
      "metadata": {
        "id": "DUa-JGdYc3bm",
        "colab": {
          "base_uri": "https://localhost:8080/"
        },
        "outputId": "522931e4-8996-4d08-ffc1-6fbcd731c7f9"
      },
      "source": [
        "print('total training non acciental images:', len(os.listdir(train_na_dir)))\n",
        "print('total training traffic images:', len(os.listdir(train_tr_dir)))\n",
        "print('total training foggy images:', len(os.listdir(train_fo_dir)))"
      ],
      "execution_count": null,
      "outputs": [
        {
          "output_type": "stream",
          "text": [
            "total training non acciental images: 36\n",
            "total training traffic images: 38\n",
            "total training foggy images: 38\n"
          ],
          "name": "stdout"
        }
      ]
    },
    {
      "cell_type": "code",
      "metadata": {
        "id": "6nW8q8_pc8L0"
      },
      "source": [
        "%matplotlib inline\n",
        "\n",
        "import matplotlib.pyplot as plt\n",
        "import matplotlib.image as mpimg"
      ],
      "execution_count": null,
      "outputs": []
    },
    {
      "cell_type": "code",
      "metadata": {
        "id": "GJ0I_uVsdAE-"
      },
      "source": [
        "nrows = 4\n",
        "ncols = 4"
      ],
      "execution_count": null,
      "outputs": []
    },
    {
      "cell_type": "code",
      "metadata": {
        "id": "MQjmbLH8dM7v"
      },
      "source": [
        "pic_index = 0"
      ],
      "execution_count": null,
      "outputs": []
    },
    {
      "cell_type": "code",
      "metadata": {
        "id": "-AokfEGDdQPI",
        "colab": {
          "base_uri": "https://localhost:8080/",
          "height": 34
        },
        "outputId": "4a7e1641-6a40-4910-f16b-9a4ef5025f11"
      },
      "source": [
        "fig = plt.gcf()\n",
        "fig.set_size_inches(ncols * 4, nrows * 4)"
      ],
      "execution_count": null,
      "outputs": [
        {
          "output_type": "display_data",
          "data": {
            "text/plain": [
              "<Figure size 1152x1152 with 0 Axes>"
            ]
          },
          "metadata": {
            "tags": []
          }
        }
      ]
    },
    {
      "cell_type": "code",
      "metadata": {
        "id": "8I7nLsOKdUeX"
      },
      "source": [
        "pic_index += 8\n",
        "next_na_pix = [os.path.join(train_na_dir, fname) \n",
        "                for fname in train_na_names[pic_index-8:pic_index]]\n",
        "next_tr_pix = [os.path.join(train_tr_dir, fname) \n",
        "                for fname in train_tr_names[pic_index-8:pic_index]]\n",
        "next_fo_pix = [os.path.join(train_fo_dir, fname) \n",
        "                for fname in train_fo_names[pic_index-8:pic_index]]"
      ],
      "execution_count": null,
      "outputs": []
    },
    {
      "cell_type": "code",
      "metadata": {
        "id": "29IybChydX_P"
      },
      "source": [
        "import tensorflow as tf"
      ],
      "execution_count": null,
      "outputs": []
    },
    {
      "cell_type": "code",
      "metadata": {
        "id": "oLCYXvk8dcXN"
      },
      "source": [
        "from keras.models import Sequential\n",
        "from keras.layers import Dense, Conv2D, Dropout, Flatten, MaxPooling2D"
      ],
      "execution_count": null,
      "outputs": []
    },
    {
      "cell_type": "code",
      "metadata": {
        "id": "l4QZKRzBdjFQ"
      },
      "source": [
        "from keras.utils.np_utils import to_categorical # convert to one-hot-encoding\n",
        "from keras.models import Sequential\n",
        "from keras.layers import Dense, Dropout, Flatten, Conv2D, MaxPool2D\n",
        "from keras.optimizers import RMSprop\n",
        "from keras.preprocessing.image import ImageDataGenerator\n",
        "from keras.callbacks import ReduceLROnPlateau"
      ],
      "execution_count": null,
      "outputs": []
    },
    {
      "cell_type": "code",
      "metadata": {
        "id": "ccLyxpXkdm54"
      },
      "source": [
        "model = Sequential()\n",
        "\n",
        "model.add(Conv2D(filters = 32, kernel_size = (5,5),padding = 'Same', \n",
        "                 activation ='relu', input_shape = (300,300,3)))\n",
        "model.add(Conv2D(filters = 32, kernel_size = (5,5),padding = 'Same', \n",
        "                 activation ='relu'))\n",
        "model.add(MaxPool2D(pool_size=(2,2)))\n",
        "model.add(Dropout(0.25))\n",
        "\n",
        "\n",
        "model.add(Conv2D(filters = 64, kernel_size = (3,3),padding = 'Same', \n",
        "                 activation ='relu'))\n",
        "model.add(Conv2D(filters = 64, kernel_size = (3,3),padding = 'Same', \n",
        "                 activation ='relu'))\n",
        "model.add(MaxPool2D(pool_size=(2,2), strides=(2,2)))\n",
        "model.add(Dropout(0.25))\n",
        "\n",
        "\n",
        "model.add(Flatten())\n",
        "model.add(Dense(256, activation = \"relu\"))\n",
        "model.add(Dropout(0.5))\n",
        "model.add(Dense(10, activation = \"softmax\"))"
      ],
      "execution_count": null,
      "outputs": []
    },
    {
      "cell_type": "code",
      "metadata": {
        "id": "0d8XqQP6dvOr"
      },
      "source": [
        "model = Sequential()\n",
        "model.add(Conv2D(28, kernel_size=(3,3), input_shape=(300,300,3)))\n",
        "model.add(MaxPooling2D(pool_size=(2, 2)))\n",
        "model.add(Flatten()) # Flattening the 2D arrays for fully connected layers\n",
        "model.add(Dense(128, activation=tf.nn.relu))\n",
        "model.add(Dropout(0.2))\n",
        "model.add(Dense(10,activation=tf.nn.softmax))"
      ],
      "execution_count": null,
      "outputs": []
    },
    {
      "cell_type": "code",
      "metadata": {
        "colab": {
          "base_uri": "https://localhost:8080/"
        },
        "id": "LEOqsjcQrgd6",
        "outputId": "708090e9-5ad8-49f7-acc6-25e51e11638e"
      },
      "source": [
        "model.summary()"
      ],
      "execution_count": null,
      "outputs": [
        {
          "output_type": "stream",
          "text": [
            "Model: \"sequential_1\"\n",
            "_________________________________________________________________\n",
            "Layer (type)                 Output Shape              Param #   \n",
            "=================================================================\n",
            "conv2d_4 (Conv2D)            (None, 298, 298, 28)      784       \n",
            "_________________________________________________________________\n",
            "max_pooling2d_2 (MaxPooling2 (None, 149, 149, 28)      0         \n",
            "_________________________________________________________________\n",
            "flatten_1 (Flatten)          (None, 621628)            0         \n",
            "_________________________________________________________________\n",
            "dense_2 (Dense)              (None, 128)               79568512  \n",
            "_________________________________________________________________\n",
            "dropout_3 (Dropout)          (None, 128)               0         \n",
            "_________________________________________________________________\n",
            "dense_3 (Dense)              (None, 10)                1290      \n",
            "=================================================================\n",
            "Total params: 79,570,586\n",
            "Trainable params: 79,570,586\n",
            "Non-trainable params: 0\n",
            "_________________________________________________________________\n"
          ],
          "name": "stdout"
        }
      ]
    },
    {
      "cell_type": "code",
      "metadata": {
        "id": "6PDolwISd4ND"
      },
      "source": [
        "model.compile(optimizer='adam', \n",
        "              loss='sparse_categorical_crossentropy', \n",
        "              metrics=['accuracy'])"
      ],
      "execution_count": null,
      "outputs": []
    },
    {
      "cell_type": "code",
      "metadata": {
        "id": "TFkbNN2leopb"
      },
      "source": [
        "train_datagen = ImageDataGenerator(rescale=1/255)"
      ],
      "execution_count": null,
      "outputs": []
    },
    {
      "cell_type": "code",
      "metadata": {
        "id": "25VzW_3DedRD",
        "colab": {
          "base_uri": "https://localhost:8080/"
        },
        "outputId": "e3e1c4b9-2f12-4a9a-f57c-e7325583cdc7"
      },
      "source": [
        "train_generator = train_datagen.flow_from_directory(\n",
        "        '/content/input_traffic image data',  # This is the source directory for training images\n",
        "        target_size=(300, 300),  # All images will be resized to 150x150\n",
        "        batch_size=128,\n",
        "        # Since we use binary_crossentropy loss, we need binary labels\n",
        "        class_mode='binary')"
      ],
      "execution_count": null,
      "outputs": [
        {
          "output_type": "stream",
          "text": [
            "Found 109 images belonging to 3 classes.\n"
          ],
          "name": "stdout"
        }
      ]
    },
    {
      "cell_type": "code",
      "metadata": {
        "id": "bEGI8ZkCelOX",
        "colab": {
          "base_uri": "https://localhost:8080/"
        },
        "outputId": "aa3a27ba-e7fc-402a-a0c7-8dc22295b968"
      },
      "source": [
        "history=model.fit_generator(\n",
        "      train_generator,\n",
        "      steps_per_epoch=1,  \n",
        "      epochs=40,\n",
        "      verbose=1)"
      ],
      "execution_count": null,
      "outputs": [
        {
          "output_type": "stream",
          "text": [
            "/usr/local/lib/python3.7/dist-packages/tensorflow/python/keras/engine/training.py:1844: UserWarning: `Model.fit_generator` is deprecated and will be removed in a future version. Please use `Model.fit`, which supports generators.\n",
            "  warnings.warn('`Model.fit_generator` is deprecated and '\n"
          ],
          "name": "stderr"
        },
        {
          "output_type": "stream",
          "text": [
            "Epoch 1/5\n",
            "1/1 [==============================] - 7s 7s/step - loss: 1.7557 - accuracy: 0.8899\n",
            "Epoch 2/5\n",
            "1/1 [==============================] - 8s 8s/step - loss: 1.4106 - accuracy: 0.9083\n",
            "Epoch 3/5\n",
            "1/1 [==============================] - 10s 10s/step - loss: 1.1540 - accuracy: 0.9266\n",
            "Epoch 4/5\n",
            "1/1 [==============================] - 9s 9s/step - loss: 0.9880 - accuracy: 0.9266\n",
            "Epoch 5/5\n",
            "1/1 [==============================] - 6s 6s/step - loss: 0.9210 - accuracy: 0.9083\n"
          ],
          "name": "stdout"
        }
      ]
    },
    {
      "cell_type": "code",
      "metadata": {
        "colab": {
          "base_uri": "https://localhost:8080/"
        },
        "id": "PG0JprJAqk01",
        "outputId": "3549e8fc-057b-4c65-a29e-bed8cf51bdab"
      },
      "source": [
        "print(history.history.keys())"
      ],
      "execution_count": null,
      "outputs": [
        {
          "output_type": "stream",
          "text": [
            "dict_keys(['loss', 'accuracy'])\n"
          ],
          "name": "stdout"
        }
      ]
    },
    {
      "cell_type": "code",
      "metadata": {
        "colab": {
          "base_uri": "https://localhost:8080/",
          "height": 573
        },
        "id": "u2Ax5XmXprup",
        "outputId": "4cb3601a-bef9-46f7-fcfc-6afc9cdaf6be"
      },
      "source": [
        "plt.plot(history.history['accuracy'])\n",
        "plt.title('model accuracy')\n",
        "plt.ylabel('accuracy')\n",
        "plt.xlabel('epoch')\n",
        "plt.legend(['train'], loc='upper left')\n",
        "plt.show()\n",
        "# summarize history for loss\n",
        "plt.plot(history.history['loss'])\n",
        "plt.title('model loss')\n",
        "plt.ylabel('loss')\n",
        "plt.xlabel('epoch')\n",
        "plt.legend(['train'], loc='upper left')\n",
        "plt.show()"
      ],
      "execution_count": null,
      "outputs": [
        {
          "output_type": "display_data",
          "data": {
            "image/png": "[encoded data removed]",
            "text/plain": [
              "<Figure size 432x288 with 1 Axes>"
            ]
          },
          "metadata": {
            "tags": [],
            "needs_background": "light"
          }
        },
        {
          "output_type": "display_data",
          "data": {
            "image/png": "[encoded data removed]",
            "text/plain": [
              "<Figure size 432x288 with 1 Axes>"
            ]
          },
          "metadata": {
            "tags": [],
            "needs_background": "light"
          }
        }
      ]
    },
    {
      "cell_type": "code",
      "metadata": {
        "colab": {
          "base_uri": "https://localhost:8080/"
        },
        "id": "E4kVzKSgf4ci",
        "outputId": "61ccb2d0-5fcc-420b-9b5c-addd2e14db31"
      },
      "source": [
        "pip install gtts"
      ],
      "execution_count": null,
      "outputs": [
        {
          "output_type": "stream",
          "text": [
            "Collecting gtts\n",
            "  Downloading https://files.pythonhosted.org/packages/5f/b9/94e59337107be134b21ce395a29fc0715b707b560108d6797de2d93e1178/gTTS-2.2.2-py3-none-any.whl\n",
            "Requirement already satisfied: six in /usr/local/lib/python3.7/dist-packages (from gtts) (1.15.0)\n",
            "Requirement already satisfied: requests in /usr/local/lib/python3.7/dist-packages (from gtts) (2.23.0)\n",
            "Requirement already satisfied: click in /usr/local/lib/python3.7/dist-packages (from gtts) (7.1.2)\n",
            "Requirement already satisfied: chardet<4,>=3.0.2 in /usr/local/lib/python3.7/dist-packages (from requests->gtts) (3.0.4)\n",
            "Requirement already satisfied: urllib3!=1.25.0,!=1.25.1,<1.26,>=1.21.1 in /usr/local/lib/python3.7/dist-packages (from requests->gtts) (1.24.3)\n",
            "Requirement already satisfied: idna<3,>=2.5 in /usr/local/lib/python3.7/dist-packages (from requests->gtts) (2.10)\n",
            "Requirement already satisfied: certifi>=2017.4.17 in /usr/local/lib/python3.7/dist-packages (from requests->gtts) (2020.12.5)\n",
            "Installing collected packages: gtts\n",
            "Successfully installed gtts-2.2.2\n"
          ],
          "name": "stdout"
        }
      ]
    },
    {
      "cell_type": "code",
      "metadata": {
        "id": "XsVkc--Qe1WV"
      },
      "source": [
        "import numpy as np\n",
        "from google.colab import files\n",
        "from keras.preprocessing import image\n",
        "from gtts import gTTS\n",
        "from IPython.display import Audio\n",
        "from tensorflow.python.keras import backend as K"
      ],
      "execution_count": null,
      "outputs": []
    },
    {
      "cell_type": "code",
      "metadata": {
        "id": "IG3kNra2hfMB",
        "colab": {
          "resources": {
            "http://localhost:8080/nbextensions/google.colab/files.js": {
              "data": "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",
              "ok": true,
              "headers": [
                [
                  "content-type",
                  "application/javascript"
                ]
              ],
              "status": 200,
              "status_text": ""
            }
          },
          "base_uri": "https://localhost:8080/",
          "height": 418
        },
        "outputId": "23540e2a-c1f9-4ca5-91ca-a22c7bcbe297"
      },
      "source": [
        "uploaded = files.upload()\n",
        "\n",
        "for fn in uploaded.keys():\n",
        " \n",
        "  # predicting images\n",
        "  path = '/content/' + fn\n",
        "  img = image.load_img(path, target_size=(300, 300))\n",
        "  plt.imshow(img,cmap='Greys')\n",
        "  x = image.img_to_array(img)\n",
        "  x = np.expand_dims(x, axis=0)\n",
        "\n",
        "  images = np.vstack([x])\n",
        "  pred = model.predict(images)\n",
        "  print(pred.argmax())\n",
        "  if pred.argmax()==0:\n",
        "    print(fn + \" is foggy\")\n",
        "    tts = gTTS('Image is Foggy') #Provide the string to convert to speech\n",
        "    tts.save('1.wav') #save the string converted to speech as a .wav file\n",
        "    sound_file = '1.wav'\n",
        "    Audio(sound_file, autoplay=True)\n",
        "  elif pred.argmax()==1:\n",
        "    print(fn + \" is Non Accidental\")\n",
        "    tts = gTTS('Image is Non Accidental') #Provide the string to convert to speech\n",
        "    tts.save('1.wav') #save the string converted to speech as a .wav file\n",
        "    sound_file = '1.wav'\n",
        "    Audio(sound_file, autoplay=True)\n",
        "  else:\n",
        "    print(fn + \" is traffic\")\n",
        "    tts = gTTS('Image is traffic') #Provide the string to convert to speech\n",
        "    tts.save('1.wav') #save the string converted to speech as a .wav file\n",
        "    sound_file = '1.wav'\n",
        "    Audio(sound_file, autoplay=True)\n",
        "\n",
        "Audio(sound_file, autoplay=True)\n",
        "  \n"
      ],
      "execution_count": null,
      "outputs": [
        {
          "output_type": "display_data",
          "data": {
            "text/html": [
              "\n",
              "     <input type=\"file\" id=\"files-cbd6cb32-1177-4f12-b6f8-223315dd907b\" name=\"files[]\" multiple disabled\n",
              "        style=\"border:none\" />\n",
              "     <output id=\"result-cbd6cb32-1177-4f12-b6f8-223315dd907b\">\n",
              "      Upload widget is only available when the cell has been executed in the\n",
              "      current browser session. Please rerun this cell to enable.\n",
              "      </output>\n",
              "      <script src=\"/nbextensions/google.colab/files.js\"></script> "
            ],
            "text/plain": [
              "<IPython.core.display.HTML object>"
            ]
          },
          "metadata": {
            "tags": []
          }
        },
        {
          "output_type": "stream",
          "text": [
            "Saving download.png to download (2).png\n",
            "0\n",
            "download.png is foggy\n"
          ],
          "name": "stdout"
        },
        {
          "output_type": "execute_result",
          "data": {
            "text/html": [
              "\n",
              "                <audio controls=\"controls\" autoplay=\"autoplay\">\n",
              "                    <source src=\"data:audio/x-wav;base64,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\" type=\"audio/x-wav\" />\n",
              "                    Your browser does not support the audio element.\n",
              "                </audio>\n",
              "              "
            ],
            "text/plain": [
              "<IPython.lib.display.Audio object>"
            ]
          },
          "metadata": {
            "tags": []
          },
          "execution_count": 43
        },
        {
          "output_type": "display_data",
          "data": {
            "image/png": "[encoded data removed]",
            "text/plain": [
              "<Figure size 432x288 with 1 Axes>"
            ]
          },
          "metadata": {
            "tags": [],
            "needs_background": "light"
          }
        }
      ]
    },
    {
      "cell_type": "code",
      "metadata": {
        "id": "XApTUG1jjbgb"
      },
      "source": [],
      "execution_count": null,
      "outputs": []
    }
  ]
}